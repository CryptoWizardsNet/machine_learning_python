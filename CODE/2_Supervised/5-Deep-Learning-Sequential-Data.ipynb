{
 "cells": [
  {
   "cell_type": "code",
   "execution_count": 1,
   "id": "e249bd43",
   "metadata": {},
   "outputs": [],
   "source": [
    "# Data Management\n",
    "import numpy as np\n",
    "import pandas as pd\n",
    "\n",
    "# Statistics\n",
    "from statsmodels.tsa.stattools import adfuller\n",
    "\n",
    "# Data Prepocessing\n",
    "from sklearn.preprocessing import MinMaxScaler\n",
    "\n",
    "# Deep Learning\n",
    "import torch\n",
    "from torch.utils.data import Dataset, DataLoader\n",
    "\n",
    "# Reporting\n",
    "import matplotlib.pyplot as plt"
   ]
  },
  {
   "cell_type": "markdown",
   "id": "a227753c",
   "metadata": {},
   "source": [
    "#### Data Extraction"
   ]
  },
  {
   "cell_type": "code",
   "execution_count": 2,
   "id": "5ee0a766",
   "metadata": {},
   "outputs": [
    {
     "data": {
      "text/html": [
       "<div>\n",
       "<style scoped>\n",
       "    .dataframe tbody tr th:only-of-type {\n",
       "        vertical-align: middle;\n",
       "    }\n",
       "\n",
       "    .dataframe tbody tr th {\n",
       "        vertical-align: top;\n",
       "    }\n",
       "\n",
       "    .dataframe thead th {\n",
       "        text-align: right;\n",
       "    }\n",
       "</style>\n",
       "<table border=\"1\" class=\"dataframe\">\n",
       "  <thead>\n",
       "    <tr style=\"text-align: right;\">\n",
       "      <th></th>\n",
       "      <th>Open</th>\n",
       "      <th>Adj Close</th>\n",
       "      <th>MA_12</th>\n",
       "      <th>MA_21</th>\n",
       "      <th>HMM</th>\n",
       "      <th>lrets_bench</th>\n",
       "      <th>lrets_strat</th>\n",
       "    </tr>\n",
       "  </thead>\n",
       "  <tbody>\n",
       "    <tr>\n",
       "      <th>0</th>\n",
       "      <td>256.820007</td>\n",
       "      <td>242.321487</td>\n",
       "      <td>233.622290</td>\n",
       "      <td>238.259514</td>\n",
       "      <td>2</td>\n",
       "      <td>0.009351</td>\n",
       "      <td>0.0</td>\n",
       "    </tr>\n",
       "    <tr>\n",
       "      <th>1</th>\n",
       "      <td>257.559998</td>\n",
       "      <td>243.454041</td>\n",
       "      <td>234.584504</td>\n",
       "      <td>238.076622</td>\n",
       "      <td>3</td>\n",
       "      <td>0.004663</td>\n",
       "      <td>-0.0</td>\n",
       "    </tr>\n",
       "  </tbody>\n",
       "</table>\n",
       "</div>"
      ],
      "text/plain": [
       "         Open   Adj Close       MA_12       MA_21  HMM  lrets_bench  \\\n",
       "0  256.820007  242.321487  233.622290  238.259514    2     0.009351   \n",
       "1  257.559998  243.454041  234.584504  238.076622    3     0.004663   \n",
       "\n",
       "   lrets_strat  \n",
       "0          0.0  \n",
       "1         -0.0  "
      ]
     },
     "execution_count": 2,
     "metadata": {},
     "output_type": "execute_result"
    }
   ],
   "source": [
    "# Data Extraction\n",
    "df = pd.read_csv(\"data/HMM-SPY.csv\")\n",
    "useful_features = [\"Open\", \"Adj Close\", \"MA_12\", \"MA_21\", \"HMM\", \"lrets_bench\", \"lrets_strat\"]\n",
    "df = df[useful_features]\n",
    "df.head(2)"
   ]
  },
  {
   "cell_type": "markdown",
   "id": "ac7f4513",
   "metadata": {},
   "source": [
    "### Data Preprocessing"
   ]
  },
  {
   "cell_type": "code",
   "execution_count": 3,
   "id": "565757fb",
   "metadata": {},
   "outputs": [
    {
     "data": {
      "text/html": [
       "<div>\n",
       "<style scoped>\n",
       "    .dataframe tbody tr th:only-of-type {\n",
       "        vertical-align: middle;\n",
       "    }\n",
       "\n",
       "    .dataframe tbody tr th {\n",
       "        vertical-align: top;\n",
       "    }\n",
       "\n",
       "    .dataframe thead th {\n",
       "        text-align: right;\n",
       "    }\n",
       "</style>\n",
       "<table border=\"1\" class=\"dataframe\">\n",
       "  <thead>\n",
       "    <tr style=\"text-align: right;\">\n",
       "      <th></th>\n",
       "      <th>Open</th>\n",
       "      <th>Adj Close</th>\n",
       "      <th>MA_12</th>\n",
       "      <th>MA_21</th>\n",
       "      <th>HMM</th>\n",
       "      <th>lrets_bench</th>\n",
       "      <th>lrets_strat</th>\n",
       "      <th>lrets_bench_roll</th>\n",
       "      <th>TARGET</th>\n",
       "    </tr>\n",
       "  </thead>\n",
       "  <tbody>\n",
       "    <tr>\n",
       "      <th>9</th>\n",
       "      <td>264.820007</td>\n",
       "      <td>248.068802</td>\n",
       "      <td>244.613200</td>\n",
       "      <td>238.964305</td>\n",
       "      <td>1</td>\n",
       "      <td>-0.013603</td>\n",
       "      <td>-0.003063</td>\n",
       "      <td>0.003279</td>\n",
       "      <td>-0.000604</td>\n",
       "    </tr>\n",
       "    <tr>\n",
       "      <th>10</th>\n",
       "      <td>264.010010</td>\n",
       "      <td>248.587906</td>\n",
       "      <td>245.479860</td>\n",
       "      <td>239.758611</td>\n",
       "      <td>1</td>\n",
       "      <td>0.002090</td>\n",
       "      <td>-0.000000</td>\n",
       "      <td>0.002553</td>\n",
       "      <td>-0.003063</td>\n",
       "    </tr>\n",
       "    <tr>\n",
       "      <th>11</th>\n",
       "      <td>263.209991</td>\n",
       "      <td>248.719986</td>\n",
       "      <td>246.201024</td>\n",
       "      <td>240.785478</td>\n",
       "      <td>2</td>\n",
       "      <td>0.000531</td>\n",
       "      <td>0.000000</td>\n",
       "      <td>0.002140</td>\n",
       "      <td>-0.000000</td>\n",
       "    </tr>\n",
       "    <tr>\n",
       "      <th>12</th>\n",
       "      <td>265.609985</td>\n",
       "      <td>250.824539</td>\n",
       "      <td>246.909612</td>\n",
       "      <td>242.198377</td>\n",
       "      <td>3</td>\n",
       "      <td>0.008426</td>\n",
       "      <td>-0.008393</td>\n",
       "      <td>0.002630</td>\n",
       "      <td>0.000000</td>\n",
       "    </tr>\n",
       "    <tr>\n",
       "      <th>13</th>\n",
       "      <td>263.390015</td>\n",
       "      <td>248.918198</td>\n",
       "      <td>247.364958</td>\n",
       "      <td>242.988414</td>\n",
       "      <td>2</td>\n",
       "      <td>-0.007629</td>\n",
       "      <td>0.002010</td>\n",
       "      <td>0.001829</td>\n",
       "      <td>-0.008393</td>\n",
       "    </tr>\n",
       "  </tbody>\n",
       "</table>\n",
       "</div>"
      ],
      "text/plain": [
       "          Open   Adj Close       MA_12       MA_21  HMM  lrets_bench  \\\n",
       "9   264.820007  248.068802  244.613200  238.964305    1    -0.013603   \n",
       "10  264.010010  248.587906  245.479860  239.758611    1     0.002090   \n",
       "11  263.209991  248.719986  246.201024  240.785478    2     0.000531   \n",
       "12  265.609985  250.824539  246.909612  242.198377    3     0.008426   \n",
       "13  263.390015  248.918198  247.364958  242.988414    2    -0.007629   \n",
       "\n",
       "    lrets_strat  lrets_bench_roll    TARGET  \n",
       "9     -0.003063          0.003279 -0.000604  \n",
       "10    -0.000000          0.002553 -0.003063  \n",
       "11     0.000000          0.002140 -0.000000  \n",
       "12    -0.008393          0.002630  0.000000  \n",
       "13     0.002010          0.001829 -0.008393  "
      ]
     },
     "execution_count": 3,
     "metadata": {},
     "output_type": "execute_result"
    }
   ],
   "source": [
    "# Add Rolling Returns and TARGET\n",
    "df[\"lrets_bench_roll\"] = df[\"lrets_bench\"].rolling(window=10).mean()\n",
    "df[\"TARGET\"] = df[\"lrets_strat\"].shift(1)\n",
    "df.dropna(inplace=True)\n",
    "df.head()"
   ]
  },
  {
   "cell_type": "code",
   "execution_count": 4,
   "id": "01206900",
   "metadata": {},
   "outputs": [
    {
     "name": "stdout",
     "output_type": "stream",
     "text": [
      "Non-Stationary Features Found: 4\n"
     ]
    },
    {
     "data": {
      "text/plain": [
       "['Open', 'Adj Close', 'MA_12', 'MA_21']"
      ]
     },
     "execution_count": 4,
     "metadata": {},
     "output_type": "execute_result"
    }
   ],
   "source": [
    "# Identify non-stationary columns\n",
    "non_stationaries = []\n",
    "for col in df.columns:\n",
    "    dftest = adfuller(df[col].values)\n",
    "    p_value = dftest[1]\n",
    "    t_test = dftest[0] < dftest[4][\"1%\"]\n",
    "    if p_value > 0.05 or not t_test:\n",
    "        non_stationaries.append(col)\n",
    "print(f\"Non-Stationary Features Found: {len(non_stationaries)}\")\n",
    "non_stationaries"
   ]
  },
  {
   "cell_type": "code",
   "execution_count": 5,
   "id": "f38ad90b",
   "metadata": {},
   "outputs": [],
   "source": [
    "# Convert Non-Stationary items to log\n",
    "df[non_stationaries] = np.log(df[non_stationaries])"
   ]
  },
  {
   "cell_type": "code",
   "execution_count": 11,
   "id": "af4d6efd",
   "metadata": {},
   "outputs": [
    {
     "data": {
      "text/html": [
       "<div>\n",
       "<style scoped>\n",
       "    .dataframe tbody tr th:only-of-type {\n",
       "        vertical-align: middle;\n",
       "    }\n",
       "\n",
       "    .dataframe tbody tr th {\n",
       "        vertical-align: top;\n",
       "    }\n",
       "\n",
       "    .dataframe thead th {\n",
       "        text-align: right;\n",
       "    }\n",
       "</style>\n",
       "<table border=\"1\" class=\"dataframe\">\n",
       "  <thead>\n",
       "    <tr style=\"text-align: right;\">\n",
       "      <th></th>\n",
       "      <th>Open</th>\n",
       "      <th>Adj Close</th>\n",
       "      <th>MA_12</th>\n",
       "      <th>MA_21</th>\n",
       "      <th>HMM</th>\n",
       "      <th>lrets_bench</th>\n",
       "      <th>lrets_strat</th>\n",
       "      <th>lrets_bench_roll</th>\n",
       "      <th>TARGET</th>\n",
       "    </tr>\n",
       "  </thead>\n",
       "  <tbody>\n",
       "    <tr>\n",
       "      <th>9</th>\n",
       "      <td>0.200641</td>\n",
       "      <td>0.177745</td>\n",
       "      <td>0.047211</td>\n",
       "      <td>0.000000</td>\n",
       "      <td>0.333333</td>\n",
       "      <td>0.504813</td>\n",
       "      <td>0.532233</td>\n",
       "      <td>0.681136</td>\n",
       "      <td>-0.000604</td>\n",
       "    </tr>\n",
       "    <tr>\n",
       "      <th>10</th>\n",
       "      <td>0.196512</td>\n",
       "      <td>0.180398</td>\n",
       "      <td>0.052376</td>\n",
       "      <td>0.004967</td>\n",
       "      <td>0.333333</td>\n",
       "      <td>0.582264</td>\n",
       "      <td>0.595795</td>\n",
       "      <td>0.664534</td>\n",
       "      <td>-0.003063</td>\n",
       "    </tr>\n",
       "    <tr>\n",
       "      <th>11</th>\n",
       "      <td>0.192422</td>\n",
       "      <td>0.181072</td>\n",
       "      <td>0.056659</td>\n",
       "      <td>0.011364</td>\n",
       "      <td>0.666667</td>\n",
       "      <td>0.574569</td>\n",
       "      <td>0.595795</td>\n",
       "      <td>0.655088</td>\n",
       "      <td>-0.000000</td>\n",
       "    </tr>\n",
       "    <tr>\n",
       "      <th>12</th>\n",
       "      <td>0.204655</td>\n",
       "      <td>0.191766</td>\n",
       "      <td>0.060856</td>\n",
       "      <td>0.020121</td>\n",
       "      <td>1.000000</td>\n",
       "      <td>0.613533</td>\n",
       "      <td>0.421644</td>\n",
       "      <td>0.666302</td>\n",
       "      <td>0.000000</td>\n",
       "    </tr>\n",
       "    <tr>\n",
       "      <th>13</th>\n",
       "      <td>0.193344</td>\n",
       "      <td>0.182083</td>\n",
       "      <td>0.063546</td>\n",
       "      <td>0.024995</td>\n",
       "      <td>0.666667</td>\n",
       "      <td>0.534293</td>\n",
       "      <td>0.637505</td>\n",
       "      <td>0.647975</td>\n",
       "      <td>-0.008393</td>\n",
       "    </tr>\n",
       "    <tr>\n",
       "      <th>14</th>\n",
       "      <td>0.196053</td>\n",
       "      <td>0.180398</td>\n",
       "      <td>0.065648</td>\n",
       "      <td>0.029236</td>\n",
       "      <td>0.666667</td>\n",
       "      <td>0.565394</td>\n",
       "      <td>0.688358</td>\n",
       "      <td>0.658932</td>\n",
       "      <td>0.002010</td>\n",
       "    </tr>\n",
       "    <tr>\n",
       "      <th>15</th>\n",
       "      <td>0.202065</td>\n",
       "      <td>0.200332</td>\n",
       "      <td>0.069629</td>\n",
       "      <td>0.034699</td>\n",
       "      <td>1.000000</td>\n",
       "      <td>0.649466</td>\n",
       "      <td>0.783571</td>\n",
       "      <td>0.668788</td>\n",
       "      <td>0.004461</td>\n",
       "    </tr>\n",
       "    <tr>\n",
       "      <th>16</th>\n",
       "      <td>0.214262</td>\n",
       "      <td>0.211430</td>\n",
       "      <td>0.075411</td>\n",
       "      <td>0.040193</td>\n",
       "      <td>0.666667</td>\n",
       "      <td>0.615104</td>\n",
       "      <td>0.799558</td>\n",
       "      <td>0.683255</td>\n",
       "      <td>0.009050</td>\n",
       "    </tr>\n",
       "    <tr>\n",
       "      <th>17</th>\n",
       "      <td>0.227497</td>\n",
       "      <td>0.212040</td>\n",
       "      <td>0.079876</td>\n",
       "      <td>0.045630</td>\n",
       "      <td>1.000000</td>\n",
       "      <td>0.574323</td>\n",
       "      <td>0.592722</td>\n",
       "      <td>0.667074</td>\n",
       "      <td>0.009820</td>\n",
       "    </tr>\n",
       "    <tr>\n",
       "      <th>18</th>\n",
       "      <td>0.227298</td>\n",
       "      <td>0.220938</td>\n",
       "      <td>0.084908</td>\n",
       "      <td>0.053188</td>\n",
       "      <td>0.666667</td>\n",
       "      <td>0.606549</td>\n",
       "      <td>0.774013</td>\n",
       "      <td>0.652873</td>\n",
       "      <td>-0.000148</td>\n",
       "    </tr>\n",
       "  </tbody>\n",
       "</table>\n",
       "</div>"
      ],
      "text/plain": [
       "        Open  Adj Close     MA_12     MA_21       HMM  lrets_bench  \\\n",
       "9   0.200641   0.177745  0.047211  0.000000  0.333333     0.504813   \n",
       "10  0.196512   0.180398  0.052376  0.004967  0.333333     0.582264   \n",
       "11  0.192422   0.181072  0.056659  0.011364  0.666667     0.574569   \n",
       "12  0.204655   0.191766  0.060856  0.020121  1.000000     0.613533   \n",
       "13  0.193344   0.182083  0.063546  0.024995  0.666667     0.534293   \n",
       "14  0.196053   0.180398  0.065648  0.029236  0.666667     0.565394   \n",
       "15  0.202065   0.200332  0.069629  0.034699  1.000000     0.649466   \n",
       "16  0.214262   0.211430  0.075411  0.040193  0.666667     0.615104   \n",
       "17  0.227497   0.212040  0.079876  0.045630  1.000000     0.574323   \n",
       "18  0.227298   0.220938  0.084908  0.053188  0.666667     0.606549   \n",
       "\n",
       "    lrets_strat  lrets_bench_roll    TARGET  \n",
       "9      0.532233          0.681136 -0.000604  \n",
       "10     0.595795          0.664534 -0.003063  \n",
       "11     0.595795          0.655088 -0.000000  \n",
       "12     0.421644          0.666302  0.000000  \n",
       "13     0.637505          0.647975 -0.008393  \n",
       "14     0.688358          0.658932  0.002010  \n",
       "15     0.783571          0.668788  0.004461  \n",
       "16     0.799558          0.683255  0.009050  \n",
       "17     0.592722          0.667074  0.009820  \n",
       "18     0.774013          0.652873 -0.000148  "
      ]
     },
     "execution_count": 11,
     "metadata": {},
     "output_type": "execute_result"
    }
   ],
   "source": [
    "# Min Max Scaling\n",
    "scaler = MinMaxScaler()\n",
    "df.iloc[:, :-1] = scaler.fit_transform(df.iloc[:, :-1])\n",
    "df.head(10)"
   ]
  },
  {
   "cell_type": "code",
   "execution_count": 7,
   "id": "c6bf3e27",
   "metadata": {},
   "outputs": [
    {
     "name": "stdout",
     "output_type": "stream",
     "text": [
      "X_data: \n",
      " [[0.20064088 0.1777452  0.0472111  0.         0.33333333 0.50481327\n",
      "  0.53223262 0.6811359 ]] \n",
      "\n",
      "y: \n",
      " [-0.00060402 -0.00306336 -0.          0.         -0.00839313] \n",
      "\n"
     ]
    }
   ],
   "source": [
    "# Split X and Y data\n",
    "X_data = df.iloc[:, : -1].values\n",
    "y_data = df.iloc[:, -1].values\n",
    "print(f\"X_data: \\n {X_data[:1]} \\n\")\n",
    "print(f\"y: \\n {y_data[0:5]} \\n\")"
   ]
  },
  {
   "cell_type": "markdown",
   "id": "6a523320",
   "metadata": {},
   "source": [
    "### Data Sequencing"
   ]
  },
  {
   "cell_type": "code",
   "execution_count": 8,
   "id": "f069e23c",
   "metadata": {},
   "outputs": [],
   "source": [
    "# split a univariate sequence into samples\n",
    "def split_sequence(input_data, n_steps):\n",
    "    \n",
    "    X = list()\n",
    "    for i in range(len(input_data)):\n",
    "        \n",
    "        # find the end of this pattern\n",
    "        end_ix = i + n_steps\n",
    "        \n",
    "        # check if we are beyond the sequence\n",
    "        if end_ix > len(input_data)-1:\n",
    "            break\n",
    "\n",
    "        # gather input and output parts of the pattern\n",
    "        seq_x = input_data[i:end_ix, :-1]\n",
    "        \n",
    "        # gather input a\n",
    "        X.append(seq_x)\n",
    "    return np.array(X)"
   ]
  },
  {
   "cell_type": "code",
   "execution_count": 9,
   "id": "f21d780d",
   "metadata": {},
   "outputs": [],
   "source": [
    "# choose a number of time steps in each sample window\n",
    "n_timesteps = 8\n",
    "\n",
    "# split X into sequence samples\n",
    "X = split_sequence(X_data, n_timesteps)\n",
    "\n",
    "# Adjust y to start at the right point\n",
    "y = y_data[n_timesteps: ]"
   ]
  },
  {
   "cell_type": "code",
   "execution_count": 10,
   "id": "5c310a3a",
   "metadata": {
    "scrolled": false
   },
   "outputs": [
    {
     "name": "stdout",
     "output_type": "stream",
     "text": [
      "\n",
      "X summary:\n",
      "[[0.20064088 0.1777452  0.0472111  0.         0.33333333 0.50481327\n",
      "  0.53223262]\n",
      " [0.19651226 0.1803982  0.05237563 0.00496689 0.33333333 0.58226423\n",
      "  0.59579465]\n",
      " [0.19242205 0.18107234 0.05665925 0.01136369 0.66666667 0.57456887\n",
      "  0.59579465]\n",
      " [0.20465531 0.191766   0.06085597 0.02012078 1.         0.61353273\n",
      "  0.42164448]\n",
      " [0.19334353 0.18208334 0.06354648 0.02499517 0.66666667 0.53429341\n",
      "  0.63750451]\n",
      " [0.19605276 0.1803982  0.06564806 0.02923554 0.66666667 0.56539409\n",
      "  0.68835771]\n",
      " [0.20206512 0.20033197 0.06962947 0.0346993  1.         0.64946563\n",
      "  0.7835711 ]\n",
      " [0.21426199 0.21142959 0.07541099 0.04019253 0.66666667 0.61510364\n",
      "  0.79955837]]\n",
      "[[0.19651226 0.1803982  0.05237563 0.00496689 0.33333333 0.58226423\n",
      "  0.59579465]\n",
      " [0.19242205 0.18107234 0.05665925 0.01136369 0.66666667 0.57456887\n",
      "  0.59579465]\n",
      " [0.20465531 0.191766   0.06085597 0.02012078 1.         0.61353273\n",
      "  0.42164448]\n",
      " [0.19334353 0.18208334 0.06354648 0.02499517 0.66666667 0.53429341\n",
      "  0.63750451]\n",
      " [0.19605276 0.1803982  0.06564806 0.02923554 0.66666667 0.56539409\n",
      "  0.68835771]\n",
      " [0.20206512 0.20033197 0.06962947 0.0346993  1.         0.64946563\n",
      "  0.7835711 ]\n",
      " [0.21426199 0.21142959 0.07541099 0.04019253 0.66666667 0.61510364\n",
      "  0.79955837]\n",
      " [0.2274973  0.21204049 0.07987561 0.04563017 1.         0.57432295\n",
      "  0.59272153]]\n",
      "\n",
      "y summary:\n",
      "0.009820352376471\n",
      "-0.0001481084904742\n"
     ]
    }
   ],
   "source": [
    "# summarize and check the X sequence\n",
    "print(\"\")\n",
    "print(\"X summary:\")\n",
    "counts = 0\n",
    "for i in range(len(X)):\n",
    "    counts += 1\n",
    "    if counts <=2:\n",
    "        print(X[i])\n",
    "    else:\n",
    "        break\n",
    "\n",
    "# summarize and check the y sequence\n",
    "print(\"\")\n",
    "print(\"y summary:\")\n",
    "counts = 0\n",
    "for i in range(len(y)):\n",
    "    counts += 1\n",
    "    if counts <=2:\n",
    "        print(y[i])\n",
    "    else:\n",
    "        break"
   ]
  },
  {
   "cell_type": "code",
   "execution_count": 12,
   "id": "ef90de96",
   "metadata": {},
   "outputs": [],
   "source": [
    "class dataset(Dataset):\n",
    "    def __init__(self,X,y):\n",
    "        self.X = torch.tensor(X,dtype=torch.float32)\n",
    "        self.y = torch.tensor(y,dtype=torch.float32)\n",
    "        self.length = self.X.shape[0]\n",
    "    def __getitem__(self,idx):\n",
    "        return self.X[idx],self.y[idx]\n",
    "    def __len__(self):\n",
    "        return self.length\n",
    "\n",
    "# Trainset\n",
    "trainset = dataset(X, y)\n",
    "\n",
    "# Data Loader\n",
    "trainloader = DataLoader(trainset, batch_size=20, shuffle=False)"
   ]
  },
  {
   "cell_type": "code",
   "execution_count": 13,
   "id": "1579d484",
   "metadata": {},
   "outputs": [
    {
     "name": "stdout",
     "output_type": "stream",
     "text": [
      "torch.Size([835, 8, 7])\n"
     ]
    },
    {
     "data": {
      "text/plain": [
       "tensor([[[0.2006, 0.1777, 0.0472, 0.0000, 0.3333, 0.5048, 0.5322],\n",
       "         [0.1965, 0.1804, 0.0524, 0.0050, 0.3333, 0.5823, 0.5958],\n",
       "         [0.1924, 0.1811, 0.0567, 0.0114, 0.6667, 0.5746, 0.5958],\n",
       "         [0.2047, 0.1918, 0.0609, 0.0201, 1.0000, 0.6135, 0.4216],\n",
       "         [0.1933, 0.1821, 0.0635, 0.0250, 0.6667, 0.5343, 0.6375],\n",
       "         [0.1961, 0.1804, 0.0656, 0.0292, 0.6667, 0.5654, 0.6884],\n",
       "         [0.2021, 0.2003, 0.0696, 0.0347, 1.0000, 0.6495, 0.7836],\n",
       "         [0.2143, 0.2114, 0.0754, 0.0402, 0.6667, 0.6151, 0.7996]],\n",
       "\n",
       "        [[0.1965, 0.1804, 0.0524, 0.0050, 0.3333, 0.5823, 0.5958],\n",
       "         [0.1924, 0.1811, 0.0567, 0.0114, 0.6667, 0.5746, 0.5958],\n",
       "         [0.2047, 0.1918, 0.0609, 0.0201, 1.0000, 0.6135, 0.4216],\n",
       "         [0.1933, 0.1821, 0.0635, 0.0250, 0.6667, 0.5343, 0.6375],\n",
       "         [0.1961, 0.1804, 0.0656, 0.0292, 0.6667, 0.5654, 0.6884],\n",
       "         [0.2021, 0.2003, 0.0696, 0.0347, 1.0000, 0.6495, 0.7836],\n",
       "         [0.2143, 0.2114, 0.0754, 0.0402, 0.6667, 0.6151, 0.7996],\n",
       "         [0.2275, 0.2120, 0.0799, 0.0456, 1.0000, 0.5743, 0.5927]],\n",
       "\n",
       "        [[0.1924, 0.1811, 0.0567, 0.0114, 0.6667, 0.5746, 0.5958],\n",
       "         [0.2047, 0.1918, 0.0609, 0.0201, 1.0000, 0.6135, 0.4216],\n",
       "         [0.1933, 0.1821, 0.0635, 0.0250, 0.6667, 0.5343, 0.6375],\n",
       "         [0.1961, 0.1804, 0.0656, 0.0292, 0.6667, 0.5654, 0.6884],\n",
       "         [0.2021, 0.2003, 0.0696, 0.0347, 1.0000, 0.6495, 0.7836],\n",
       "         [0.2143, 0.2114, 0.0754, 0.0402, 0.6667, 0.6151, 0.7996],\n",
       "         [0.2275, 0.2120, 0.0799, 0.0456, 1.0000, 0.5743, 0.5927],\n",
       "         [0.2273, 0.2209, 0.0849, 0.0532, 0.6667, 0.6065, 0.7740]]])"
      ]
     },
     "execution_count": 13,
     "metadata": {},
     "output_type": "execute_result"
    }
   ],
   "source": [
    "print(trainset.X.shape)\n",
    "trainset.X[0:3]"
   ]
  },
  {
   "cell_type": "code",
   "execution_count": 14,
   "id": "e47eeaca",
   "metadata": {},
   "outputs": [
    {
     "data": {
      "text/plain": [
       "tensor([ 0.0098, -0.0001,  0.0086,  0.0013, -0.0068, -0.0081,  0.0000,  0.0045,\n",
       "         0.0095, -0.0046])"
      ]
     },
     "execution_count": 14,
     "metadata": {},
     "output_type": "execute_result"
    }
   ],
   "source": [
    "trainset.y[:10]"
   ]
  },
  {
   "cell_type": "markdown",
   "id": "f21d5d51",
   "metadata": {},
   "source": [
    "### Construct Neural Network"
   ]
  },
  {
   "cell_type": "code",
   "execution_count": 16,
   "id": "fe0dbf6c",
   "metadata": {},
   "outputs": [],
   "source": [
    "from torch import nn\n",
    "from torch.autograd import Variable\n",
    "class LSTM_Net(nn.Module):\n",
    "    def __init__(self, input_dim, hidden_dim, layer_dim, output_dim):\n",
    "        super(LSTM_Net, self).__init__()\n",
    "        \n",
    "        # Hidden dimensions\n",
    "        self.hidden_dim = hidden_dim\n",
    "        \n",
    "        # Hidden layers\n",
    "        self.layer_dim = layer_dim\n",
    "        \n",
    "        # LSTM layer\n",
    "        self.lstm = nn.LSTM(input_dim, hidden_dim, layer_dim, batch_first=True)\n",
    "        \n",
    "        # Fully connected layer\n",
    "        self.fc1 = nn.Linear(hidden_dim, 5)\n",
    "\n",
    "        # Fully connected layer\n",
    "        self.fc2 = nn.Linear(5, output_dim)\n",
    "        \n",
    "    def forward(self, x):\n",
    "                            \n",
    "        # Initialize Hidden State with zeros (layer dim = 1, x.size = 64)\n",
    "        h0 = Variable(torch.zeros(self.layer_dim, x.size(0), self.hidden_dim))\n",
    "                            \n",
    "        # Initialize Cell State with zeros\n",
    "        c0 = Variable(torch.zeros(self.layer_dim, x.size(0), self.hidden_dim))\n",
    "        \n",
    "#         # Outputs - Classification\n",
    "#         out, (hn, cn) = self.lstm(x, (h0, c0))\n",
    "#         out = self.fc1(out[:, -1, :])\n",
    "#         out = torch.sigmoid(self.fc2(out))\n",
    "\n",
    "        # Regression - Propagate input through LSTM\n",
    "        ula, (h_out, _) = self.lstm(x, (h0, c0))\n",
    "        h_out = h_out.view(-1, self.hidden_dim)\n",
    "        out = self.fc1(h_out)\n",
    "        out = self.fc2(out)\n",
    "        \n",
    "        return out"
   ]
  },
  {
   "cell_type": "code",
   "execution_count": 18,
   "id": "dbd65286",
   "metadata": {},
   "outputs": [
    {
     "name": "stdout",
     "output_type": "stream",
     "text": [
      "Model Parameters: 8\n"
     ]
    }
   ],
   "source": [
    "# Initialize model\n",
    "input_dim = X.shape[2]\n",
    "hidden_dim = 100\n",
    "layer_dim = 1\n",
    "output_dim = 1\n",
    "model = LSTM_Net(input_dim, hidden_dim, layer_dim, output_dim)\n",
    "print(f\"Model Parameters: {len(list(model.parameters()))}\")"
   ]
  },
  {
   "cell_type": "code",
   "execution_count": 19,
   "id": "51078129",
   "metadata": {},
   "outputs": [
    {
     "name": "stdout",
     "output_type": "stream",
     "text": [
      "torch.Size([400, 7])\n",
      "torch.Size([400, 100])\n",
      "torch.Size([400])\n",
      "torch.Size([400])\n",
      "torch.Size([5, 100])\n",
      "torch.Size([5])\n",
      "torch.Size([1, 5])\n",
      "torch.Size([1])\n"
     ]
    }
   ],
   "source": [
    "# Review Model Structure\n",
    "for i in range(len(list(model.parameters()))):\n",
    "    print(list(model.parameters())[i].size())"
   ]
  },
  {
   "cell_type": "markdown",
   "id": "da9ca7c0",
   "metadata": {},
   "source": [
    "### Train LSTM Neural Network"
   ]
  },
  {
   "cell_type": "code",
   "execution_count": 20,
   "id": "ff288199",
   "metadata": {},
   "outputs": [
    {
     "name": "stdout",
     "output_type": "stream",
     "text": [
      "Loss: 2.5915673518284166e-07\n",
      "Loss: 4.0528941980255695e-08\n",
      "Loss: 1.5377109363612362e-08\n",
      "Loss: 1.944172709045233e-06\n",
      "Loss: 3.1486351872445084e-06\n",
      "Loss: 4.331865056883544e-06\n",
      "Loss: 8.59138435771456e-06\n",
      "Loss: 5.580177457886748e-06\n",
      "Loss: 0.00029748695669695735\n",
      "Loss: 1.6460991218991694e-06\n",
      "Loss: 2.0257991195649083e-07\n",
      "Loss: 1.0023302820627578e-05\n",
      "Loss: 7.234888244056492e-07\n",
      "Loss: 2.1163126007195388e-07\n",
      "Loss: 6.789559847675264e-08\n",
      "Loss: 8.868036047715577e-07\n",
      "Loss: 5.807554970260753e-08\n",
      "Loss: 1.515934036433464e-05\n",
      "Loss: 2.9131388146197423e-07\n",
      "Loss: 2.901450170611497e-05\n"
     ]
    }
   ],
   "source": [
    "epochs = 1000\n",
    "\n",
    "# # for classification\n",
    "# criterion = nn.BCELoss() \n",
    "# optimizer = torch.optim.AdamW(model.parameters(), lr=1e-1)\n",
    "\n",
    "# Regression\n",
    "criterion = torch.nn.MSELoss()    # mean-squared error for regression\n",
    "optimizer = torch.optim.AdamW(model.parameters(), lr=1e-1)\n",
    "\n",
    "losses = []\n",
    "\n",
    "iter = 0\n",
    "for epoch in range(epochs):\n",
    "    for i, (X_train, y_train) in enumerate(trainloader):\n",
    "\n",
    "        # Clear gradients\n",
    "        optimizer.zero_grad()\n",
    "\n",
    "        # Forward pass\n",
    "        outputs = model(X_train)\n",
    "\n",
    "        # Calculate loss\n",
    "        loss = criterion(outputs, y_train.unsqueeze(dim=1))\n",
    "                       \n",
    "        # Backward propegation\n",
    "        loss.backward()\n",
    "\n",
    "        # Updating parameters\n",
    "        optimizer.step()\n",
    "\n",
    "        # Increment iteration\n",
    "        iter += 1\n",
    "        \n",
    "    # Track progress\n",
    "    if iter % 100 == 0:\n",
    "        print(f\"Loss: {loss}\")\n",
    "        losses.append(loss.detach())"
   ]
  },
  {
   "cell_type": "code",
   "execution_count": 21,
   "id": "664cdbe3",
   "metadata": {},
   "outputs": [
    {
     "data": {
      "image/png": "[encoded data removed]",
      "text/plain": [
       "<Figure size 432x288 with 1 Axes>"
      ]
     },
     "metadata": {
      "needs_background": "light"
     },
     "output_type": "display_data"
    }
   ],
   "source": [
    "# Review losses\n",
    "plt.plot(losses)\n",
    "plt.show()"
   ]
  },
  {
   "cell_type": "code",
   "execution_count": null,
   "id": "9147e570",
   "metadata": {},
   "outputs": [],
   "source": []
  }
 ],
 "metadata": {
  "kernelspec": {
   "display_name": "Python 3 (ipykernel)",
   "language": "python",
   "name": "python3"
  },
  "language_info": {
   "codemirror_mode": {
    "name": "ipython",
    "version": 3
   },
   "file_extension": ".py",
   "mimetype": "text/x-python",
   "name": "python",
   "nbconvert_exporter": "python",
   "pygments_lexer": "ipython3",
   "version": "3.9.6"
  }
 },
 "nbformat": 4,
 "nbformat_minor": 5
}
