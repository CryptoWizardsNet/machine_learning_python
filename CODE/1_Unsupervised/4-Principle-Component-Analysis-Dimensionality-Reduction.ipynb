{
 "cells": [
  {
   "cell_type": "markdown",
   "id": "2f7aba52",
   "metadata": {},
   "source": [
    "### Case Study"
   ]
  },
  {
   "cell_type": "markdown",
   "id": "c1d1b8b9",
   "metadata": {},
   "source": [
    "The VIX is a measure of the implied volatility for the S&P500. The higher the \"Close\" of the VIX, the higher the uncertainty in the market. Fortunately, there are ways of capitlizing on the predictability of the VIX. Being able to predict implied volatility for the market with any degree of certainty better than 50/50 can give an options trader of ETF trader (VIX tracking ETF's) an edge.\n",
    "\n",
    "There could be many, many features that impact whether a stock price goes up or down. Predicting directionality for stocks, the VIX, commodities, FX etc represents a huge potential gain for every small percentage increment in forecast ability.\n",
    "\n",
    "However, having so many features allows room for noise and can create adverse impacts to your supervised learning. Therefore, we will explore deplying PCA (Principle Component Analysis) as a tool to find useful information within a vast array of indicators and features to help with our supervised learning later on.\n",
    "\n",
    "PCA can equally be extremely good at helping to understand correlations too and further study on PCS (based on articles and papers below) is encorouged."
   ]
  },
  {
   "cell_type": "markdown",
   "id": "44b4b74f",
   "metadata": {},
   "source": [
    "### Imports"
   ]
  },
  {
   "cell_type": "code",
   "execution_count": 1,
   "id": "23d0372c",
   "metadata": {},
   "outputs": [],
   "source": [
    "# Remove unwanted warnings\n",
    "import warnings\n",
    "warnings.simplefilter(action='ignore', category=FutureWarning)\n",
    "warnings.simplefilter(action='ignore', category=RuntimeWarning)\n",
    "\n",
    "# Data Management\n",
    "import pandas as pd\n",
    "import numpy as np\n",
    "from pandas_datareader.data import DataReader\n",
    "from ta import add_all_ta_features\n",
    "\n",
    "# Statistics\n",
    "from statsmodels.tsa.stattools import adfuller\n",
    "\n",
    "# Unsupervised Machine Learning\n",
    "from sklearn.decomposition import PCA\n",
    "\n",
    "# Supervised Machine Learning\n",
    "from sklearn.preprocessing import StandardScaler\n",
    "from sklearn.model_selection import train_test_split\n",
    "from sklearn.ensemble import RandomForestClassifier\n",
    "from sklearn.metrics import accuracy_score\n",
    "from sklearn.metrics import precision_score\n",
    "\n",
    "# Reporting\n",
    "import matplotlib.pyplot as plt"
   ]
  },
  {
   "cell_type": "markdown",
   "id": "339f3702",
   "metadata": {},
   "source": [
    "### Initial Data Extraction"
   ]
  },
  {
   "cell_type": "code",
   "execution_count": 2,
   "id": "91083209",
   "metadata": {},
   "outputs": [
    {
     "data": {
      "text/html": [
       "<div>\n",
       "<style scoped>\n",
       "    .dataframe tbody tr th:only-of-type {\n",
       "        vertical-align: middle;\n",
       "    }\n",
       "\n",
       "    .dataframe tbody tr th {\n",
       "        vertical-align: top;\n",
       "    }\n",
       "\n",
       "    .dataframe thead th {\n",
       "        text-align: right;\n",
       "    }\n",
       "</style>\n",
       "<table border=\"1\" class=\"dataframe\">\n",
       "  <thead>\n",
       "    <tr style=\"text-align: right;\">\n",
       "      <th></th>\n",
       "      <th>High</th>\n",
       "      <th>Low</th>\n",
       "      <th>Open</th>\n",
       "      <th>Close</th>\n",
       "      <th>Volume</th>\n",
       "      <th>Adj Close</th>\n",
       "    </tr>\n",
       "    <tr>\n",
       "      <th>Date</th>\n",
       "      <th></th>\n",
       "      <th></th>\n",
       "      <th></th>\n",
       "      <th></th>\n",
       "      <th></th>\n",
       "      <th></th>\n",
       "    </tr>\n",
       "  </thead>\n",
       "  <tbody>\n",
       "    <tr>\n",
       "      <th>2017-01-03</th>\n",
       "      <td>14.07</td>\n",
       "      <td>12.85</td>\n",
       "      <td>14.07</td>\n",
       "      <td>12.85</td>\n",
       "      <td>0</td>\n",
       "      <td>12.85</td>\n",
       "    </tr>\n",
       "    <tr>\n",
       "      <th>2017-01-04</th>\n",
       "      <td>12.80</td>\n",
       "      <td>11.63</td>\n",
       "      <td>12.78</td>\n",
       "      <td>11.85</td>\n",
       "      <td>0</td>\n",
       "      <td>11.85</td>\n",
       "    </tr>\n",
       "    <tr>\n",
       "      <th>2017-01-05</th>\n",
       "      <td>12.09</td>\n",
       "      <td>11.40</td>\n",
       "      <td>11.96</td>\n",
       "      <td>11.67</td>\n",
       "      <td>0</td>\n",
       "      <td>11.67</td>\n",
       "    </tr>\n",
       "    <tr>\n",
       "      <th>2017-01-06</th>\n",
       "      <td>11.74</td>\n",
       "      <td>10.98</td>\n",
       "      <td>11.70</td>\n",
       "      <td>11.32</td>\n",
       "      <td>0</td>\n",
       "      <td>11.32</td>\n",
       "    </tr>\n",
       "    <tr>\n",
       "      <th>2017-01-09</th>\n",
       "      <td>12.08</td>\n",
       "      <td>11.46</td>\n",
       "      <td>11.71</td>\n",
       "      <td>11.56</td>\n",
       "      <td>0</td>\n",
       "      <td>11.56</td>\n",
       "    </tr>\n",
       "  </tbody>\n",
       "</table>\n",
       "</div>"
      ],
      "text/plain": [
       "             High    Low   Open  Close  Volume  Adj Close\n",
       "Date                                                     \n",
       "2017-01-03  14.07  12.85  14.07  12.85       0      12.85\n",
       "2017-01-04  12.80  11.63  12.78  11.85       0      11.85\n",
       "2017-01-05  12.09  11.40  11.96  11.67       0      11.67\n",
       "2017-01-06  11.74  10.98  11.70  11.32       0      11.32\n",
       "2017-01-09  12.08  11.46  11.71  11.56       0      11.56"
      ]
     },
     "execution_count": 2,
     "metadata": {},
     "output_type": "execute_result"
    }
   ],
   "source": [
    "# Data Extraction\n",
    "start_date = \"2017-01-01\"\n",
    "end_date = \"2022-06-01\"\n",
    "symbol = \"^VIX\"\n",
    "df = DataReader(name=symbol, data_source='yahoo', start=start_date, end=end_date)\n",
    "df.head()"
   ]
  },
  {
   "cell_type": "code",
   "execution_count": 3,
   "id": "f478c54f",
   "metadata": {},
   "outputs": [],
   "source": [
    "# Add TA\n",
    "df = add_all_ta_features(df, open=\"Open\", high=\"High\", low=\"Low\", close=\"Adj Close\", volume=\"Volume\", fillna=True)"
   ]
  },
  {
   "cell_type": "markdown",
   "id": "3d287d20",
   "metadata": {},
   "source": [
    "### Data Preprocessing - Stationarity"
   ]
  },
  {
   "cell_type": "code",
   "execution_count": 4,
   "id": "306d5a74",
   "metadata": {},
   "outputs": [
    {
     "name": "stdout",
     "output_type": "stream",
     "text": [
      "Non-Stationary Features Found: 30\n"
     ]
    }
   ],
   "source": [
    "# Identify non-stationary columns\n",
    "non_stationaries = []\n",
    "for col in df.columns:\n",
    "    dftest = adfuller(df[col].values)\n",
    "    p_value = dftest[1]\n",
    "    t_test = dftest[0] < dftest[4][\"1%\"]\n",
    "    if p_value > 0.05 or not t_test:\n",
    "        non_stationaries.append(col)\n",
    "print(f\"Non-Stationary Features Found: {len(non_stationaries)}\")"
   ]
  },
  {
   "cell_type": "code",
   "execution_count": 5,
   "id": "2ca5bc27",
   "metadata": {},
   "outputs": [],
   "source": [
    "# Convert non-stationaries to stationary\n",
    "df_stationary = df.copy()\n",
    "df_stationary[non_stationaries] = df_stationary[non_stationaries].pct_change()\n",
    "df_stationary = df_stationary.iloc[1:]"
   ]
  },
  {
   "cell_type": "code",
   "execution_count": 6,
   "id": "53b760a8",
   "metadata": {},
   "outputs": [],
   "source": [
    "# Find NaN Rows\n",
    "na_list = df_stationary.columns[df_stationary.isna().any().tolist()]\n",
    "df_stationary.drop(columns=na_list, inplace=True)"
   ]
  },
  {
   "cell_type": "code",
   "execution_count": 7,
   "id": "5882ede1",
   "metadata": {},
   "outputs": [
    {
     "data": {
      "text/html": [
       "<div>\n",
       "<style scoped>\n",
       "    .dataframe tbody tr th:only-of-type {\n",
       "        vertical-align: middle;\n",
       "    }\n",
       "\n",
       "    .dataframe tbody tr th {\n",
       "        vertical-align: top;\n",
       "    }\n",
       "\n",
       "    .dataframe thead th {\n",
       "        text-align: right;\n",
       "    }\n",
       "</style>\n",
       "<table border=\"1\" class=\"dataframe\">\n",
       "  <thead>\n",
       "    <tr style=\"text-align: right;\">\n",
       "      <th></th>\n",
       "      <th>High</th>\n",
       "      <th>Low</th>\n",
       "      <th>Open</th>\n",
       "      <th>Close</th>\n",
       "      <th>Adj Close</th>\n",
       "      <th>volume_mfi</th>\n",
       "      <th>volume_nvi</th>\n",
       "      <th>volatility_bbm</th>\n",
       "      <th>volatility_bbh</th>\n",
       "      <th>volatility_bbl</th>\n",
       "      <th>...</th>\n",
       "      <th>momentum_wr</th>\n",
       "      <th>momentum_ao</th>\n",
       "      <th>momentum_roc</th>\n",
       "      <th>momentum_ppo</th>\n",
       "      <th>momentum_ppo_signal</th>\n",
       "      <th>momentum_ppo_hist</th>\n",
       "      <th>momentum_kama</th>\n",
       "      <th>others_dr</th>\n",
       "      <th>others_dlr</th>\n",
       "      <th>others_cr</th>\n",
       "    </tr>\n",
       "    <tr>\n",
       "      <th>Date</th>\n",
       "      <th></th>\n",
       "      <th></th>\n",
       "      <th></th>\n",
       "      <th></th>\n",
       "      <th></th>\n",
       "      <th></th>\n",
       "      <th></th>\n",
       "      <th></th>\n",
       "      <th></th>\n",
       "      <th></th>\n",
       "      <th></th>\n",
       "      <th></th>\n",
       "      <th></th>\n",
       "      <th></th>\n",
       "      <th></th>\n",
       "      <th></th>\n",
       "      <th></th>\n",
       "      <th></th>\n",
       "      <th></th>\n",
       "      <th></th>\n",
       "      <th></th>\n",
       "    </tr>\n",
       "  </thead>\n",
       "  <tbody>\n",
       "    <tr>\n",
       "      <th>2017-01-04</th>\n",
       "      <td>12.80</td>\n",
       "      <td>-0.094942</td>\n",
       "      <td>12.78</td>\n",
       "      <td>11.85</td>\n",
       "      <td>11.85</td>\n",
       "      <td>0.0</td>\n",
       "      <td>0.0</td>\n",
       "      <td>-0.038911</td>\n",
       "      <td>0.038911</td>\n",
       "      <td>-0.116732</td>\n",
       "      <td>...</td>\n",
       "      <td>-90.983594</td>\n",
       "      <td>0.000000</td>\n",
       "      <td>0.0</td>\n",
       "      <td>-0.624394</td>\n",
       "      <td>-0.124879</td>\n",
       "      <td>-0.499515</td>\n",
       "      <td>-0.053083</td>\n",
       "      <td>-7.782101</td>\n",
       "      <td>-8.101594</td>\n",
       "      <td>-7.782101</td>\n",
       "    </tr>\n",
       "    <tr>\n",
       "      <th>2017-01-05</th>\n",
       "      <td>12.09</td>\n",
       "      <td>-0.019776</td>\n",
       "      <td>11.96</td>\n",
       "      <td>11.67</td>\n",
       "      <td>11.67</td>\n",
       "      <td>0.0</td>\n",
       "      <td>0.0</td>\n",
       "      <td>-0.018354</td>\n",
       "      <td>-0.014123</td>\n",
       "      <td>-0.023329</td>\n",
       "      <td>...</td>\n",
       "      <td>-89.887624</td>\n",
       "      <td>0.000000</td>\n",
       "      <td>0.0</td>\n",
       "      <td>-1.226732</td>\n",
       "      <td>-0.345249</td>\n",
       "      <td>-0.881483</td>\n",
       "      <td>-0.028005</td>\n",
       "      <td>-1.518990</td>\n",
       "      <td>-1.530645</td>\n",
       "      <td>-9.182881</td>\n",
       "    </tr>\n",
       "    <tr>\n",
       "      <th>2017-01-06</th>\n",
       "      <td>11.74</td>\n",
       "      <td>-0.036842</td>\n",
       "      <td>11.70</td>\n",
       "      <td>11.32</td>\n",
       "      <td>11.32</td>\n",
       "      <td>0.0</td>\n",
       "      <td>0.0</td>\n",
       "      <td>-0.016566</td>\n",
       "      <td>-0.007763</td>\n",
       "      <td>-0.027018</td>\n",
       "      <td>...</td>\n",
       "      <td>-88.996759</td>\n",
       "      <td>0.000000</td>\n",
       "      <td>0.0</td>\n",
       "      <td>-1.916831</td>\n",
       "      <td>-0.659566</td>\n",
       "      <td>-1.257265</td>\n",
       "      <td>-0.026327</td>\n",
       "      <td>-2.999146</td>\n",
       "      <td>-3.045041</td>\n",
       "      <td>-11.906620</td>\n",
       "    </tr>\n",
       "    <tr>\n",
       "      <th>2017-01-09</th>\n",
       "      <td>12.08</td>\n",
       "      <td>0.043716</td>\n",
       "      <td>11.71</td>\n",
       "      <td>11.56</td>\n",
       "      <td>11.56</td>\n",
       "      <td>0.0</td>\n",
       "      <td>0.0</td>\n",
       "      <td>-0.006081</td>\n",
       "      <td>-0.011637</td>\n",
       "      <td>0.000646</td>\n",
       "      <td>...</td>\n",
       "      <td>-81.229746</td>\n",
       "      <td>0.000000</td>\n",
       "      <td>0.0</td>\n",
       "      <td>-2.289756</td>\n",
       "      <td>-0.985604</td>\n",
       "      <td>-1.304152</td>\n",
       "      <td>0.002471</td>\n",
       "      <td>2.120148</td>\n",
       "      <td>2.097985</td>\n",
       "      <td>-10.038910</td>\n",
       "    </tr>\n",
       "    <tr>\n",
       "      <th>2017-01-10</th>\n",
       "      <td>11.79</td>\n",
       "      <td>-0.013089</td>\n",
       "      <td>11.59</td>\n",
       "      <td>11.49</td>\n",
       "      <td>11.49</td>\n",
       "      <td>0.0</td>\n",
       "      <td>0.0</td>\n",
       "      <td>-0.005063</td>\n",
       "      <td>-0.008950</td>\n",
       "      <td>-0.000415</td>\n",
       "      <td>...</td>\n",
       "      <td>-83.495139</td>\n",
       "      <td>-0.288667</td>\n",
       "      <td>0.0</td>\n",
       "      <td>-2.607109</td>\n",
       "      <td>-1.309905</td>\n",
       "      <td>-1.297204</td>\n",
       "      <td>-0.002690</td>\n",
       "      <td>-0.605542</td>\n",
       "      <td>-0.607383</td>\n",
       "      <td>-10.583662</td>\n",
       "    </tr>\n",
       "  </tbody>\n",
       "</table>\n",
       "<p>5 rows × 80 columns</p>\n",
       "</div>"
      ],
      "text/plain": [
       "             High       Low   Open  Close  Adj Close  volume_mfi  volume_nvi  \\\n",
       "Date                                                                           \n",
       "2017-01-04  12.80 -0.094942  12.78  11.85      11.85         0.0         0.0   \n",
       "2017-01-05  12.09 -0.019776  11.96  11.67      11.67         0.0         0.0   \n",
       "2017-01-06  11.74 -0.036842  11.70  11.32      11.32         0.0         0.0   \n",
       "2017-01-09  12.08  0.043716  11.71  11.56      11.56         0.0         0.0   \n",
       "2017-01-10  11.79 -0.013089  11.59  11.49      11.49         0.0         0.0   \n",
       "\n",
       "            volatility_bbm  volatility_bbh  volatility_bbl  ...  momentum_wr  \\\n",
       "Date                                                        ...                \n",
       "2017-01-04       -0.038911        0.038911       -0.116732  ...   -90.983594   \n",
       "2017-01-05       -0.018354       -0.014123       -0.023329  ...   -89.887624   \n",
       "2017-01-06       -0.016566       -0.007763       -0.027018  ...   -88.996759   \n",
       "2017-01-09       -0.006081       -0.011637        0.000646  ...   -81.229746   \n",
       "2017-01-10       -0.005063       -0.008950       -0.000415  ...   -83.495139   \n",
       "\n",
       "            momentum_ao  momentum_roc  momentum_ppo  momentum_ppo_signal  \\\n",
       "Date                                                                       \n",
       "2017-01-04     0.000000           0.0     -0.624394            -0.124879   \n",
       "2017-01-05     0.000000           0.0     -1.226732            -0.345249   \n",
       "2017-01-06     0.000000           0.0     -1.916831            -0.659566   \n",
       "2017-01-09     0.000000           0.0     -2.289756            -0.985604   \n",
       "2017-01-10    -0.288667           0.0     -2.607109            -1.309905   \n",
       "\n",
       "            momentum_ppo_hist  momentum_kama  others_dr  others_dlr  others_cr  \n",
       "Date                                                                            \n",
       "2017-01-04          -0.499515      -0.053083  -7.782101   -8.101594  -7.782101  \n",
       "2017-01-05          -0.881483      -0.028005  -1.518990   -1.530645  -9.182881  \n",
       "2017-01-06          -1.257265      -0.026327  -2.999146   -3.045041 -11.906620  \n",
       "2017-01-09          -1.304152       0.002471   2.120148    2.097985 -10.038910  \n",
       "2017-01-10          -1.297204      -0.002690  -0.605542   -0.607383 -10.583662  \n",
       "\n",
       "[5 rows x 80 columns]"
      ]
     },
     "execution_count": 7,
     "metadata": {},
     "output_type": "execute_result"
    }
   ],
   "source": [
    "# Handle inf values\n",
    "df_stationary.replace([np.inf, -np.inf], 0, inplace=True)\n",
    "df_stationary.head()"
   ]
  },
  {
   "cell_type": "markdown",
   "id": "46f532a5",
   "metadata": {},
   "source": [
    "### Data Preprocessing - Scaling and Target Setting"
   ]
  },
  {
   "cell_type": "code",
   "execution_count": 8,
   "id": "016e14d3",
   "metadata": {},
   "outputs": [],
   "source": [
    "# Set Target (for Supervised ML later on)\n",
    "df_stationary[\"TARGET\"] = -1\n",
    "df_stationary.loc[df_stationary[\"Adj Close\"].shift(-1) > df_stationary[\"Adj Close\"], \"TARGET\"] = 1\n",
    "df_stationary.dropna(inplace=True)"
   ]
  },
  {
   "cell_type": "code",
   "execution_count": 9,
   "id": "2a0b2c5d",
   "metadata": {},
   "outputs": [],
   "source": [
    "# Split Target from Featureset\n",
    "X = df_stationary.iloc[:, :-1]\n",
    "y = df_stationary.iloc[:, -1]"
   ]
  },
  {
   "cell_type": "code",
   "execution_count": 10,
   "id": "678f80f5",
   "metadata": {},
   "outputs": [],
   "source": [
    "# Feature Scaling\n",
    "df_sc = df_stationary.copy()\n",
    "X_fs = StandardScaler().fit_transform(X)"
   ]
  },
  {
   "cell_type": "code",
   "execution_count": 11,
   "id": "23b28081",
   "metadata": {},
   "outputs": [],
   "source": [
    "# Train Test Split\n",
    "X_train, X_test, y_train, y_test = train_test_split(X_fs, y, test_size=0.7, random_state=42)"
   ]
  },
  {
   "cell_type": "markdown",
   "id": "152ffbef",
   "metadata": {},
   "source": [
    "### Unsupervised ML - PCA Dimensionality Reduction"
   ]
  },
  {
   "cell_type": "code",
   "execution_count": 12,
   "id": "1a87da28",
   "metadata": {},
   "outputs": [],
   "source": [
    "# PCA\n",
    "n_components = 8\n",
    "pca = PCA(n_components=n_components)\n",
    "pca_result = pca.fit(X_train)\n",
    "X_train_pca = pca_result.transform(X_train)\n",
    "X_test_pca = pca_result.transform(X_test)"
   ]
  },
  {
   "cell_type": "code",
   "execution_count": 13,
   "id": "10a9a987",
   "metadata": {},
   "outputs": [
    {
     "name": "stdout",
     "output_type": "stream",
     "text": [
      "Variance of each component:  [0.40324648 0.18347369 0.08315292 0.04858102 0.03237307 0.02520932\n",
      " 0.02367621 0.01896752]\n",
      "\n",
      " Total Variance Explained:  81.87\n"
     ]
    }
   ],
   "source": [
    "# Calculate the variance explained by Principle Components\n",
    "print(\"Variance of each component: \", pca.explained_variance_ratio_)\n",
    "print(\"\\n Total Variance Explained: \", round(sum(list(pca.explained_variance_ratio_)) * 100, 2))"
   ]
  },
  {
   "cell_type": "code",
   "execution_count": 14,
   "id": "5d715175",
   "metadata": {},
   "outputs": [
    {
     "data": {
      "text/plain": [
       "['PC_0', 'PC_1', 'PC_2', 'PC_3', 'PC_4', 'PC_5', 'PC_6', 'PC_7']"
      ]
     },
     "execution_count": 14,
     "metadata": {},
     "output_type": "execute_result"
    }
   ],
   "source": [
    "# Create columns\n",
    "pca_cols = []\n",
    "for i in range(n_components):\n",
    "    pca_cols.append(f\"PC_{i}\")\n",
    "pca_cols"
   ]
  },
  {
   "cell_type": "code",
   "execution_count": 15,
   "id": "a1d1ea9d",
   "metadata": {},
   "outputs": [
    {
     "data": {
      "text/html": [
       "<div>\n",
       "<style scoped>\n",
       "    .dataframe tbody tr th:only-of-type {\n",
       "        vertical-align: middle;\n",
       "    }\n",
       "\n",
       "    .dataframe tbody tr th {\n",
       "        vertical-align: top;\n",
       "    }\n",
       "\n",
       "    .dataframe thead th {\n",
       "        text-align: right;\n",
       "    }\n",
       "</style>\n",
       "<table border=\"1\" class=\"dataframe\">\n",
       "  <thead>\n",
       "    <tr style=\"text-align: right;\">\n",
       "      <th></th>\n",
       "      <th>PC_0</th>\n",
       "      <th>PC_1</th>\n",
       "      <th>PC_2</th>\n",
       "      <th>PC_3</th>\n",
       "      <th>PC_4</th>\n",
       "      <th>PC_5</th>\n",
       "      <th>PC_6</th>\n",
       "      <th>PC_7</th>\n",
       "    </tr>\n",
       "  </thead>\n",
       "  <tbody>\n",
       "    <tr>\n",
       "      <th>0</th>\n",
       "      <td>-4.663399</td>\n",
       "      <td>-0.247211</td>\n",
       "      <td>-2.611970</td>\n",
       "      <td>0.757772</td>\n",
       "      <td>1.069917</td>\n",
       "      <td>0.798403</td>\n",
       "      <td>-0.178374</td>\n",
       "      <td>1.420791</td>\n",
       "    </tr>\n",
       "    <tr>\n",
       "      <th>1</th>\n",
       "      <td>-1.816759</td>\n",
       "      <td>4.547170</td>\n",
       "      <td>-1.009873</td>\n",
       "      <td>0.755642</td>\n",
       "      <td>0.711006</td>\n",
       "      <td>0.148932</td>\n",
       "      <td>-2.098136</td>\n",
       "      <td>0.142190</td>\n",
       "    </tr>\n",
       "    <tr>\n",
       "      <th>2</th>\n",
       "      <td>2.026221</td>\n",
       "      <td>-4.735525</td>\n",
       "      <td>-0.753187</td>\n",
       "      <td>0.901963</td>\n",
       "      <td>-1.686211</td>\n",
       "      <td>-0.811835</td>\n",
       "      <td>0.550774</td>\n",
       "      <td>0.539499</td>\n",
       "    </tr>\n",
       "    <tr>\n",
       "      <th>3</th>\n",
       "      <td>-4.800988</td>\n",
       "      <td>0.887544</td>\n",
       "      <td>2.454545</td>\n",
       "      <td>-0.724577</td>\n",
       "      <td>2.042134</td>\n",
       "      <td>1.036780</td>\n",
       "      <td>0.069152</td>\n",
       "      <td>-0.473741</td>\n",
       "    </tr>\n",
       "    <tr>\n",
       "      <th>4</th>\n",
       "      <td>3.330988</td>\n",
       "      <td>-6.703617</td>\n",
       "      <td>0.524157</td>\n",
       "      <td>0.518986</td>\n",
       "      <td>-2.433367</td>\n",
       "      <td>0.480882</td>\n",
       "      <td>0.492603</td>\n",
       "      <td>1.306552</td>\n",
       "    </tr>\n",
       "  </tbody>\n",
       "</table>\n",
       "</div>"
      ],
      "text/plain": [
       "       PC_0      PC_1      PC_2      PC_3      PC_4      PC_5      PC_6  \\\n",
       "0 -4.663399 -0.247211 -2.611970  0.757772  1.069917  0.798403 -0.178374   \n",
       "1 -1.816759  4.547170 -1.009873  0.755642  0.711006  0.148932 -2.098136   \n",
       "2  2.026221 -4.735525 -0.753187  0.901963 -1.686211 -0.811835  0.550774   \n",
       "3 -4.800988  0.887544  2.454545 -0.724577  2.042134  1.036780  0.069152   \n",
       "4  3.330988 -6.703617  0.524157  0.518986 -2.433367  0.480882  0.492603   \n",
       "\n",
       "       PC_7  \n",
       "0  1.420791  \n",
       "1  0.142190  \n",
       "2  0.539499  \n",
       "3 -0.473741  \n",
       "4  1.306552  "
      ]
     },
     "execution_count": 15,
     "metadata": {},
     "output_type": "execute_result"
    }
   ],
   "source": [
    "# Create and View DataFrame\n",
    "df_pca = pd.DataFrame(data=X_train_pca, columns=pca_cols)\n",
    "df_pca.head()"
   ]
  },
  {
   "cell_type": "code",
   "execution_count": 16,
   "id": "96d0b69e",
   "metadata": {},
   "outputs": [
    {
     "data": {
      "image/png": "[encoded data removed]",
      "text/plain": [
       "<Figure size 864x720 with 1 Axes>"
      ]
     },
     "metadata": {
      "needs_background": "light"
     },
     "output_type": "display_data"
    }
   ],
   "source": [
    "# Visualize Principle Components with Scatter Plot\n",
    "fig = plt.figure(figsize=(12, 10))\n",
    "ax = fig.add_subplot(1,1,1)\n",
    "col_1 = \"PC_2\"\n",
    "col_2 = \"PC_7\"\n",
    "ax.set_xlabel(f\"{col_1}_ Principle Component\", fontsize=15)\n",
    "ax.set_ylabel(f\"{col_2}_ Principle Component\", fontsize=15)\n",
    "ax.set_title(\"PCA on Training Dataset\", fontsize=20)\n",
    "\n",
    "targets = [-1, 1]\n",
    "colors = ['b', 'g']\n",
    "for target, color in zip(targets, colors):\n",
    "    indices_to_keep = y_train == target\n",
    "    indices_to_keep = list(indices_to_keep)\n",
    "    ax.scatter(df_pca.loc[indices_to_keep, col_1],\n",
    "               df_pca.loc[indices_to_keep, col_2],\n",
    "               c = color,\n",
    "               s=50)\n",
    "ax.legend(targets)\n",
    "ax.grid()"
   ]
  },
  {
   "cell_type": "markdown",
   "id": "e4127102",
   "metadata": {},
   "source": [
    "### Supervised ML - Random Forest Classification"
   ]
  },
  {
   "cell_type": "code",
   "execution_count": 17,
   "id": "ce3f0210",
   "metadata": {},
   "outputs": [
    {
     "name": "stdout",
     "output_type": "stream",
     "text": [
      "Test Accuracy: 0.5754716981132075\n",
      "Test Precision: 0.5611111111111111\n"
     ]
    }
   ],
   "source": [
    "classifier = RandomForestClassifier(n_estimators=12, max_depth=2, random_state=0)\n",
    "classifier.fit(X_train, y_train)\n",
    "y_pred = classifier.predict(X_test)\n",
    "accuracy = accuracy_score(y_test, y_pred)\n",
    "precision = precision_score(y_test, y_pred)\n",
    "print(f\"Test Accuracy: {accuracy}\")\n",
    "print(f\"Test Precision: {precision}\")"
   ]
  },
  {
   "cell_type": "code",
   "execution_count": 18,
   "id": "5c73e15a",
   "metadata": {},
   "outputs": [
    {
     "data": {
      "text/plain": [
       "array([[0.33640732, 0.66359268],\n",
       "       [0.63706685, 0.36293315],\n",
       "       [0.58174713, 0.41825287],\n",
       "       ...,\n",
       "       [0.57434556, 0.42565444],\n",
       "       [0.58353736, 0.41646264],\n",
       "       [0.61765625, 0.38234375]])"
      ]
     },
     "execution_count": 18,
     "metadata": {},
     "output_type": "execute_result"
    }
   ],
   "source": [
    "y_pred_proba = classifier.predict_proba(X_test)\n",
    "y_pred_proba"
   ]
  },
  {
   "cell_type": "code",
   "execution_count": 19,
   "id": "21709847",
   "metadata": {},
   "outputs": [],
   "source": [
    "# Test for Overfitting\n",
    "train_scores, test_scores = list(), list()\n",
    "values = [i for i in range(1, 200)]\n",
    "for i in values:\n",
    "    classifier = RandomForestClassifier(n_estimators=i, max_depth=2, random_state=0)\n",
    "    classifier.fit(X_train, y_train)\n",
    "    \n",
    "    # Training Data\n",
    "    y_train_pred = classifier.predict(X_train)\n",
    "    accuracy_train = accuracy_score(y_train, y_train_pred)\n",
    "    train_scores.append(accuracy_train)\n",
    "    \n",
    "    # Test Data\n",
    "    y_test_pred = classifier.predict(X_test)\n",
    "    accuracy_test = accuracy_score(y_test, y_test_pred)\n",
    "    test_scores.append(accuracy_test)"
   ]
  },
  {
   "cell_type": "code",
   "execution_count": 20,
   "id": "df954346",
   "metadata": {},
   "outputs": [
    {
     "data": {
      "image/png": "[encoded data removed]",
      "text/plain": [
       "<Figure size 432x288 with 1 Axes>"
      ]
     },
     "metadata": {
      "needs_background": "light"
     },
     "output_type": "display_data"
    }
   ],
   "source": [
    "# Plot Results\n",
    "plt.plot(train_scores)\n",
    "plt.plot(test_scores)\n",
    "plt.show()"
   ]
  },
  {
   "cell_type": "markdown",
   "id": "f4486b59",
   "metadata": {},
   "source": [
    "### Conclusion"
   ]
  },
  {
   "cell_type": "markdown",
   "id": "c39ee733",
   "metadata": {},
   "source": [
    "We have seen that by introducing PCA, we can dramatically reduce the amount of data required to train our supervised machine learning model (in this case Random Forest). One could further explore information provided by PCA by running K-Means clusters on the PCA data to find certain regimes in the data.\n",
    "\n",
    "This is the fun part about machine learning, there are many ways to combine methods in the aim to optimize your strategy."
   ]
  },
  {
   "cell_type": "markdown",
   "id": "9aae8402",
   "metadata": {},
   "source": [
    "### Useful Resources and Reading"
   ]
  },
  {
   "cell_type": "markdown",
   "id": "5a0e8826",
   "metadata": {},
   "source": [
    "Use Case in Correlation for Stock Analysis: https://python.plainenglish.io/applying-pca-to-stocks-fbad2e51573f\n",
    "\n",
    "Understanding the VIX: https://www.investopedia.com/stock-analysis/2012/4-ways-to-trade-the-vix-vxx-vxz-tvix-xxv0504.aspx\n",
    "\n",
    "Using PCA in Forex Trading: \n",
    "https://deanstreetlab.github.io/papers/papers/FX%20Trading/Using%20a%20Principal%20Component%20Analysis%20for%20Multi-Currencies-Trading%20in%20the%20Foreign%20Exchange%20Market.pdf"
   ]
  },
  {
   "cell_type": "code",
   "execution_count": null,
   "id": "c9a98539",
   "metadata": {},
   "outputs": [],
   "source": []
  }
 ],
 "metadata": {
  "kernelspec": {
   "display_name": "Python 3 (ipykernel)",
   "language": "python",
   "name": "python3"
  },
  "language_info": {
   "codemirror_mode": {
    "name": "ipython",
    "version": 3
   },
   "file_extension": ".py",
   "mimetype": "text/x-python",
   "name": "python",
   "nbconvert_exporter": "python",
   "pygments_lexer": "ipython3",
   "version": "3.9.6"
  }
 },
 "nbformat": 4,
 "nbformat_minor": 5
}
