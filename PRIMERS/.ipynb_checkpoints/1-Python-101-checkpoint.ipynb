{
 "cells": [
  {
   "cell_type": "markdown",
   "id": "8f65c643",
   "metadata": {},
   "source": [
    "### Imports"
   ]
  },
  {
   "cell_type": "code",
   "execution_count": 1,
   "id": "e22d6d3b",
   "metadata": {},
   "outputs": [],
   "source": [
    "from random import random\n",
    "import numpy as np\n",
    "import torch"
   ]
  },
  {
   "cell_type": "markdown",
   "id": "6ceda5e7",
   "metadata": {},
   "source": [
    "### Comments"
   ]
  },
  {
   "cell_type": "code",
   "execution_count": 2,
   "id": "43d00a19",
   "metadata": {},
   "outputs": [],
   "source": [
    "# This is a comment"
   ]
  },
  {
   "cell_type": "code",
   "execution_count": 3,
   "id": "a11a6e1e",
   "metadata": {},
   "outputs": [],
   "source": [
    "\"\"\"\n",
    "    This is a docstring\n",
    "    We can use this for many things including multiple lines\n",
    "\"\"\"\n",
    "\n",
    "def my_function():\n",
    "    \"\"\" Here is a docstring inside a function \"\"\""
   ]
  },
  {
   "cell_type": "code",
   "execution_count": 4,
   "id": "7f3c855b",
   "metadata": {},
   "outputs": [
    {
     "data": {
      "text/plain": [
       "' Here is a docstring inside a function '"
      ]
     },
     "execution_count": 4,
     "metadata": {},
     "output_type": "execute_result"
    }
   ],
   "source": [
    "my_function.__doc__"
   ]
  },
  {
   "cell_type": "markdown",
   "id": "d6450505",
   "metadata": {},
   "source": [
    "### Variables"
   ]
  },
  {
   "cell_type": "code",
   "execution_count": 5,
   "id": "a7170cbd",
   "metadata": {},
   "outputs": [],
   "source": [
    "# Integer\n",
    "a = 15"
   ]
  },
  {
   "cell_type": "code",
   "execution_count": 6,
   "id": "5ea1c736",
   "metadata": {},
   "outputs": [],
   "source": [
    "# Float\n",
    "b = 1.39"
   ]
  },
  {
   "cell_type": "code",
   "execution_count": 7,
   "id": "c4c7e855",
   "metadata": {},
   "outputs": [],
   "source": [
    "# String\n",
    "ticker = \"BTC\""
   ]
  },
  {
   "cell_type": "code",
   "execution_count": 8,
   "id": "82194a61",
   "metadata": {},
   "outputs": [],
   "source": [
    "# Booleans\n",
    "is_profit = True"
   ]
  },
  {
   "cell_type": "markdown",
   "id": "d7a06cfe",
   "metadata": {},
   "source": [
    "### Operators and Expressions"
   ]
  },
  {
   "cell_type": "code",
   "execution_count": 9,
   "id": "54c0c5c8",
   "metadata": {},
   "outputs": [
    {
     "name": "stdout",
     "output_type": "stream",
     "text": [
      "16.39\n"
     ]
    }
   ],
   "source": [
    "c = a + b\n",
    "print(c)"
   ]
  },
  {
   "cell_type": "code",
   "execution_count": 10,
   "id": "a7970bfb",
   "metadata": {},
   "outputs": [
    {
     "name": "stdout",
     "output_type": "stream",
     "text": [
      "13.61\n"
     ]
    }
   ],
   "source": [
    "c = a - b\n",
    "print(c)"
   ]
  },
  {
   "cell_type": "code",
   "execution_count": 11,
   "id": "a8018dcc",
   "metadata": {},
   "outputs": [
    {
     "name": "stdout",
     "output_type": "stream",
     "text": [
      "20.849999999999998\n"
     ]
    }
   ],
   "source": [
    "c = a * b\n",
    "print(c)"
   ]
  },
  {
   "cell_type": "code",
   "execution_count": 12,
   "id": "d9ea8cdd",
   "metadata": {},
   "outputs": [
    {
     "name": "stdout",
     "output_type": "stream",
     "text": [
      "10.79136690647482\n"
     ]
    }
   ],
   "source": [
    "c = a / b\n",
    "print(c)"
   ]
  },
  {
   "cell_type": "code",
   "execution_count": 13,
   "id": "a732e467",
   "metadata": {},
   "outputs": [
    {
     "name": "stdout",
     "output_type": "stream",
     "text": [
      "1.100000000000001\n"
     ]
    }
   ],
   "source": [
    "c = a % b\n",
    "print(c)"
   ]
  },
  {
   "cell_type": "markdown",
   "id": "b6eba893",
   "metadata": {},
   "source": [
    "# Lists and Arrays"
   ]
  },
  {
   "cell_type": "code",
   "execution_count": 14,
   "id": "c4460483",
   "metadata": {},
   "outputs": [
    {
     "name": "stdout",
     "output_type": "stream",
     "text": [
      "[2.34, 1.21, 7.98, 3.98]\n"
     ]
    }
   ],
   "source": [
    "# Flexible and easy to work with\n",
    "prices_list = [2.34, 1.21, 7.98, 3.98]\n",
    "print(prices_list)"
   ]
  },
  {
   "cell_type": "code",
   "execution_count": 15,
   "id": "61c05836",
   "metadata": {},
   "outputs": [
    {
     "name": "stdout",
     "output_type": "stream",
     "text": [
      "[2.34 1.21 7.98 3.98]\n"
     ]
    }
   ],
   "source": [
    "# Store one type of data and much faster for heavy computation\n",
    "prices_array = np.array([2.34, 1.21, 7.98, 3.98])\n",
    "print(prices_array)"
   ]
  },
  {
   "cell_type": "code",
   "execution_count": 16,
   "id": "f4639dbe",
   "metadata": {},
   "outputs": [
    {
     "name": "stdout",
     "output_type": "stream",
     "text": [
      "tensor([2.3400, 1.2100, 7.9800, 3.9800])\n"
     ]
    }
   ],
   "source": [
    "# For Neural Networks\n",
    "prices_tensor = torch.Tensor(prices_array)\n",
    "print(prices_tensor)"
   ]
  },
  {
   "cell_type": "code",
   "execution_count": 17,
   "id": "38e4f24e",
   "metadata": {},
   "outputs": [
    {
     "name": "stdout",
     "output_type": "stream",
     "text": [
      "[2.34, 1.21, 7.98, 3.98, 5.92]\n"
     ]
    }
   ],
   "source": [
    "# Append to lists\n",
    "prices_list.append(5.92)\n",
    "print(prices_list)"
   ]
  },
  {
   "cell_type": "code",
   "execution_count": 18,
   "id": "e1602f80",
   "metadata": {},
   "outputs": [
    {
     "name": "stdout",
     "output_type": "stream",
     "text": [
      "First Item:  2.34\n",
      "Last Item:  5.92\n",
      "First Two Items:  [2.34, 1.21]\n",
      "All but last:  [2.34, 1.21, 7.98, 3.98]\n"
     ]
    }
   ],
   "source": [
    "# Call Items\n",
    "first_item = prices_list[0]\n",
    "last_item = prices_list[-1]\n",
    "first_two_items = prices_list[:2]\n",
    "all_but_last = prices_list[:-1]\n",
    "print(\"First Item: \", first_item)\n",
    "print(\"Last Item: \", last_item)\n",
    "print(\"First Two Items: \", first_two_items)\n",
    "print(\"All but last: \", all_but_last)"
   ]
  },
  {
   "cell_type": "code",
   "execution_count": 19,
   "id": "b6fe5878",
   "metadata": {},
   "outputs": [
    {
     "name": "stdout",
     "output_type": "stream",
     "text": [
      "List Length:  5\n",
      "Arr Length:  4\n",
      "Tensor Length:  4\n"
     ]
    }
   ],
   "source": [
    "# Lengths\n",
    "list_length = len(prices_list)\n",
    "arr_length = len(prices_array)\n",
    "tensor_length = len(prices_tensor)\n",
    "print(\"List Length: \", list_length)\n",
    "print(\"Arr Length: \", arr_length)\n",
    "print(\"Tensor Length: \", tensor_length)"
   ]
  },
  {
   "cell_type": "code",
   "execution_count": 20,
   "id": "28a727fd",
   "metadata": {},
   "outputs": [
    {
     "name": "stdout",
     "output_type": "stream",
     "text": [
      "[[2.34 1.22 1.19 2.31]\n",
      " [2.37 2.   1.17 2.22]]\n",
      "Prices Shape: (2, 4)\n"
     ]
    }
   ],
   "source": [
    "# Shapes\n",
    "open_prices = [2.34, 1.22, 1.19, 2.31]\n",
    "close_prices = [2.37, 2.00, 1.17, 2.22]\n",
    "prices_arr = np.array([open_prices, close_prices])\n",
    "print(prices_arr)\n",
    "print(f\"Prices Shape: {prices_arr.shape}\")"
   ]
  },
  {
   "cell_type": "code",
   "execution_count": 21,
   "id": "f831a51d",
   "metadata": {},
   "outputs": [
    {
     "name": "stdout",
     "output_type": "stream",
     "text": [
      "[[2.34 1.22]\n",
      " [1.19 2.31]\n",
      " [2.37 2.  ]\n",
      " [1.17 2.22]]\n"
     ]
    }
   ],
   "source": [
    "# Reshape array\n",
    "reshaped = prices_arr.reshape(4, 2)\n",
    "print(reshaped)"
   ]
  },
  {
   "cell_type": "code",
   "execution_count": 22,
   "id": "ed3db8ef",
   "metadata": {},
   "outputs": [
    {
     "name": "stdout",
     "output_type": "stream",
     "text": [
      "[2.34 1.22 1.19 2.31 2.37 2.   1.17 2.22]\n"
     ]
    }
   ],
   "source": [
    "# Flatten an array\n",
    "flatten = prices_arr.reshape(1, 8)[:][0]\n",
    "print(flatten)"
   ]
  },
  {
   "cell_type": "markdown",
   "id": "9f1fe423",
   "metadata": {},
   "source": [
    "# Dictionaries"
   ]
  },
  {
   "cell_type": "code",
   "execution_count": 23,
   "id": "869dc523",
   "metadata": {},
   "outputs": [
    {
     "name": "stdout",
     "output_type": "stream",
     "text": [
      "{'ticker': 'AAPL', 'name': 'APPLE', 'current_price': 400}\n",
      "{'ticker': 'TSLA', 'name': 'TESLA', 'current_price': 550}\n",
      "Apples stock price is 400\n"
     ]
    }
   ],
   "source": [
    "# Setting a Dictionary\n",
    "stock_dict_1 = {\n",
    "    \"ticker\": \"AAPL\",\n",
    "    \"name\": \"APPLE\",\n",
    "    \"current_price\": 400\n",
    "}\n",
    "\n",
    "stock_dict_2 = {\n",
    "    \"ticker\": \"TSLA\",\n",
    "    \"name\": \"TESLA\",\n",
    "    \"current_price\": 550\n",
    "}\n",
    "\n",
    "print(stock_dict_1)\n",
    "print(stock_dict_2)\n",
    "print(f\"Apples stock price is {stock_dict_1['current_price']}\")"
   ]
  },
  {
   "cell_type": "code",
   "execution_count": 24,
   "id": "4e25da52",
   "metadata": {},
   "outputs": [
    {
     "name": "stdout",
     "output_type": "stream",
     "text": [
      "[{'ticker': 'AAPL', 'name': 'APPLE', 'current_price': 400}, {'ticker': 'TSLA', 'name': 'TESLA', 'current_price': 550}]\n",
      "\n",
      "The first stock ticker is:  AAPL\n"
     ]
    }
   ],
   "source": [
    "# Dictionaries in a list\n",
    "my_stocks = [stock_dict_1, stock_dict_2]\n",
    "print(my_stocks)\n",
    "print(\"\")\n",
    "print(\"The first stock ticker is: \", my_stocks[0][\"ticker\"])"
   ]
  },
  {
   "cell_type": "code",
   "execution_count": 25,
   "id": "84b398b0",
   "metadata": {},
   "outputs": [
    {
     "name": "stdout",
     "output_type": "stream",
     "text": [
      "{'opens': [2.34, 1.22, 1.19, 2.31], 'closes': [2.37, 2.0, 1.17, 2.22]}\n",
      "The last open price is  2.31\n"
     ]
    }
   ],
   "source": [
    "# Storing lists in a Dictionary\n",
    "prices_dict = {\n",
    "    \"opens\": open_prices,\n",
    "    \"closes\": close_prices\n",
    "}\n",
    "\n",
    "print(prices_dict)\n",
    "print(\"The last open price is \", prices_dict[\"opens\"][-1])"
   ]
  },
  {
   "cell_type": "markdown",
   "id": "c7357197",
   "metadata": {},
   "source": [
    "# If Statements"
   ]
  },
  {
   "cell_type": "code",
   "execution_count": 26,
   "id": "cc3275ca",
   "metadata": {},
   "outputs": [
    {
     "name": "stdout",
     "output_type": "stream",
     "text": [
      "It's true!\n"
     ]
    }
   ],
   "source": [
    "# A simple if\n",
    "if 1 == 1:\n",
    "    print(\"It's true!\")"
   ]
  },
  {
   "cell_type": "code",
   "execution_count": 27,
   "id": "94d9ccaf",
   "metadata": {},
   "outputs": [
    {
     "name": "stdout",
     "output_type": "stream",
     "text": [
      "No, 1 does equal 1!\n"
     ]
    }
   ],
   "source": [
    "# If else\n",
    "if 1 != 1:\n",
    "    print(\"It's not true!\")\n",
    "else:\n",
    "    print(\"No, 1 does equal 1!\")"
   ]
  },
  {
   "cell_type": "code",
   "execution_count": 28,
   "id": "8fcbbaab",
   "metadata": {},
   "outputs": [
    {
     "name": "stdout",
     "output_type": "stream",
     "text": [
      "Yes, it is greater than zero!\n"
     ]
    }
   ],
   "source": [
    "# Else if\n",
    "if 1 != 1:\n",
    "    print(\"It's true!\")\n",
    "elif 1 > 0:\n",
    "    print(\"Yes, it is greater than zero!\")\n",
    "else:\n",
    "    print(\"What just happened?\")"
   ]
  },
  {
   "cell_type": "code",
   "execution_count": 29,
   "id": "863857a9",
   "metadata": {},
   "outputs": [
    {
     "name": "stdout",
     "output_type": "stream",
     "text": [
      "Hello APPLE\n",
      "CAT and APPLE are indeed two different stocks...\n",
      "Yes, TSLA and GOOG are here!\n",
      "Either MSFT or AMZN was here!\n"
     ]
    }
   ],
   "source": [
    "# and, or, in, not\n",
    "tech_stocks = [\"AAPL\", \"GOOG\", \"TSLA\", \"MSFT\"]\n",
    "\n",
    "if \"AAPL\" in tech_stocks:\n",
    "    print(\"Hello APPLE\")\n",
    "if not \"CAT\" == \"APPLE\":\n",
    "    print(\"CAT and APPLE are indeed two different stocks...\")\n",
    "if \"TSLA\" in tech_stocks and \"GOOG\" in tech_stocks:\n",
    "    print(\"Yes, TSLA and GOOG are here!\")\n",
    "if \"MSFT\" in tech_stocks or \"AMZN\" in tech_stocks:\n",
    "    print(\"Either MSFT or AMZN was here!\")"
   ]
  },
  {
   "cell_type": "code",
   "execution_count": 30,
   "id": "185b0c04",
   "metadata": {},
   "outputs": [
    {
     "name": "stdout",
     "output_type": "stream",
     "text": [
      "Signal is BUY\n"
     ]
    }
   ],
   "source": [
    "# Ternary if condition\n",
    "signal = \"BUY\" if my_stocks[0][\"ticker\"] == \"AAPL\" else \"HOLD\"\n",
    "print(\"Signal is\", signal)"
   ]
  },
  {
   "cell_type": "markdown",
   "id": "c49fec94",
   "metadata": {},
   "source": [
    "# Loops"
   ]
  },
  {
   "cell_type": "code",
   "execution_count": 31,
   "id": "d38dbc2a",
   "metadata": {},
   "outputs": [
    {
     "name": "stdout",
     "output_type": "stream",
     "text": [
      "AAPL\n",
      "TSLA\n"
     ]
    }
   ],
   "source": [
    "# For loop\n",
    "for stock in my_stocks:\n",
    "    print(stock[\"ticker\"])"
   ]
  },
  {
   "cell_type": "code",
   "execution_count": 32,
   "id": "316ef072",
   "metadata": {},
   "outputs": [
    {
     "name": "stdout",
     "output_type": "stream",
     "text": [
      "Volume: 800\n",
      "Volume: 1100\n"
     ]
    }
   ],
   "source": [
    "# For loop continued\n",
    "for stock in my_stocks:\n",
    "    price = stock[\"current_price\"]\n",
    "    volume = price * 2\n",
    "    print(f\"Volume: {volume}\")"
   ]
  },
  {
   "cell_type": "code",
   "execution_count": 34,
   "id": "7db9c5a6",
   "metadata": {},
   "outputs": [
    {
     "name": "stdout",
     "output_type": "stream",
     "text": [
      "APPLE 400\n",
      "TESLA 550\n",
      "GOOGLE 1000\n"
     ]
    }
   ],
   "source": [
    "# While loop\n",
    "new_stock = {\"ticker\": \"GOOG\", \"name\": \"GOOGLE\", \"current_price\": 1000}\n",
    "my_stocks.append(new_stock)\n",
    "\n",
    "i = 0\n",
    "while i < len(my_stocks):\n",
    "    stock = my_stocks[i][\"name\"]\n",
    "    price = my_stocks[i][\"current_price\"]\n",
    "    print(stock, price)\n",
    "    i += 1"
   ]
  },
  {
   "cell_type": "code",
   "execution_count": 35,
   "id": "04e53042",
   "metadata": {},
   "outputs": [
    {
     "name": "stdout",
     "output_type": "stream",
     "text": [
      "Ticker: AAPL, Price: 400\n",
      "Ticker: TSLA, Price: 550\n"
     ]
    }
   ],
   "source": [
    "# Break\n",
    "for stock in my_stocks:\n",
    "    ticker = stock[\"ticker\"]\n",
    "    price = stock[\"current_price\"]\n",
    "    if price > 700:\n",
    "        break\n",
    "    print(f\"Ticker: {ticker}, Price: {price}\")"
   ]
  },
  {
   "cell_type": "code",
   "execution_count": 36,
   "id": "6e726628",
   "metadata": {},
   "outputs": [
    {
     "name": "stdout",
     "output_type": "stream",
     "text": [
      "Ticker: TSLA, Price: 550\n",
      "Ticker: GOOG, Price: 1000\n"
     ]
    }
   ],
   "source": [
    "# Continue\n",
    "for stock in my_stocks:\n",
    "    ticker = stock[\"ticker\"]\n",
    "    price = stock[\"current_price\"]\n",
    "    if price < 500:\n",
    "        continue\n",
    "    print(f\"Ticker: {ticker}, Price: {price}\")"
   ]
  },
  {
   "cell_type": "markdown",
   "id": "d366a7b7",
   "metadata": {},
   "source": [
    "# Functions"
   ]
  },
  {
   "cell_type": "code",
   "execution_count": 37,
   "id": "e10a3f1e",
   "metadata": {},
   "outputs": [],
   "source": [
    "# Construct a function\n",
    "def add_prices(price_1, price_2):\n",
    "    prices_sum = price_1 + price_2\n",
    "    return prices_sum"
   ]
  },
  {
   "cell_type": "code",
   "execution_count": 38,
   "id": "51460313",
   "metadata": {},
   "outputs": [
    {
     "name": "stdout",
     "output_type": "stream",
     "text": [
      "950\n"
     ]
    }
   ],
   "source": [
    "aapl_price = 400\n",
    "tsla_price = 550\n",
    "added_prices = add_prices(aapl_price, tsla_price)\n",
    "print(added_prices)"
   ]
  },
  {
   "cell_type": "markdown",
   "id": "1a49754b",
   "metadata": {},
   "source": [
    "# Classes"
   ]
  },
  {
   "cell_type": "code",
   "execution_count": 51,
   "id": "3e708287",
   "metadata": {},
   "outputs": [],
   "source": [
    "# Create a Class\n",
    "class StockTracker():\n",
    "    def __init__(self, name, price):\n",
    "        self.name = name\n",
    "        self.price = price\n",
    "    \n",
    "    def _random_generator(self):\n",
    "        value = random()\n",
    "        return value\n",
    "\n",
    "    def multiply_by_random(self):\n",
    "        return self.price * self._random_generator()"
   ]
  },
  {
   "cell_type": "code",
   "execution_count": 52,
   "id": "358319c5",
   "metadata": {},
   "outputs": [],
   "source": [
    "# Create a class instance\n",
    "strader_aapl = StockTracker(\"APPLE\", 400)\n",
    "strader_goog = StockTracker(\"GOOGLE\", 1000)"
   ]
  },
  {
   "cell_type": "code",
   "execution_count": 53,
   "id": "96ce985c",
   "metadata": {},
   "outputs": [
    {
     "name": "stdout",
     "output_type": "stream",
     "text": [
      "APPLE\n"
     ]
    }
   ],
   "source": [
    "# Calling a class instance - AAPL\n",
    "print(strader_aapl.name)"
   ]
  },
  {
   "cell_type": "code",
   "execution_count": 54,
   "id": "992169df",
   "metadata": {},
   "outputs": [
    {
     "name": "stdout",
     "output_type": "stream",
     "text": [
      "1000\n"
     ]
    }
   ],
   "source": [
    "# Calling a class instance - GOOG\n",
    "print(strader_goog.price)"
   ]
  },
  {
   "cell_type": "code",
   "execution_count": 55,
   "id": "80b20fd7",
   "metadata": {},
   "outputs": [
    {
     "name": "stdout",
     "output_type": "stream",
     "text": [
      "980.7108451016973\n"
     ]
    }
   ],
   "source": [
    "# Call class instance function\n",
    "print(strader_goog.multiply_by_random())"
   ]
  },
  {
   "cell_type": "code",
   "execution_count": null,
   "id": "493a5fb7",
   "metadata": {},
   "outputs": [],
   "source": []
  },
  {
   "cell_type": "code",
   "execution_count": null,
   "id": "1342bb28",
   "metadata": {},
   "outputs": [],
   "source": []
  }
 ],
 "metadata": {
  "kernelspec": {
   "display_name": "Python 3 (ipykernel)",
   "language": "python",
   "name": "python3"
  },
  "language_info": {
   "codemirror_mode": {
    "name": "ipython",
    "version": 3
   },
   "file_extension": ".py",
   "mimetype": "text/x-python",
   "name": "python",
   "nbconvert_exporter": "python",
   "pygments_lexer": "ipython3",
   "version": "3.9.6"
  }
 },
 "nbformat": 4,
 "nbformat_minor": 5
}
